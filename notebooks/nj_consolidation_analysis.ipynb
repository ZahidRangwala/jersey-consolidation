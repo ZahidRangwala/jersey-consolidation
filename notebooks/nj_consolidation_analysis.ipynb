{
  "cells": [
    {
      "cell_type": "markdown",
      "metadata": {},
      "source": [
        "# New Jersey Consolidation Analysis\n",
        "\n",
        "This notebook provides a comprehensive analysis of the potential for municipal consolidation in Northern New Jersey, inspired by the concept of creating a \"Greater Jersey City\" that would become the third largest city in the United States.\n",
        "\n",
        "## Key Questions\n",
        "- What would be the population impact of consolidating Northern New Jersey municipalities?\n",
        "- How would a consolidated NJ rank among world cities?\n",
        "- What are the potential economic benefits of consolidation?\n",
        "- How is population currently distributed across the target region?\n"
      ]
    },
    {
      "cell_type": "code",
      "execution_count": null,
      "metadata": {},
      "outputs": [
        {
          "ename": "",
          "evalue": "",
          "output_type": "error",
          "traceback": [
            "\u001b[1;31mRunning cells with 'Python 3.10.6' requires the ipykernel package.\n",
            "\u001b[1;31m<a href='command:jupyter.createPythonEnvAndSelectController'>Create a Python Environment</a> with the required packages.\n",
            "\u001b[1;31mOr install 'ipykernel' using the command: '/bin/python3 -m pip install ipykernel -U --user --force-reinstall'"
          ]
        }
      ],
      "source": [
        "# Import required libraries\n",
        "import pandas as pd\n",
        "import numpy as np\n",
        "import plotly.express as px\n",
        "import plotly.graph_objects as go\n",
        "from plotly.subplots import make_subplots\n",
        "import matplotlib.pyplot as plt\n",
        "import seaborn as sns\n",
        "from pathlib import Path\n",
        "import sys\n",
        "\n",
        "# Add src directory to path\n",
        "sys.path.append('../src')\n",
        "\n",
        "# Import our custom modules\n",
        "from data_collection import NJDataCollector\n",
        "from analysis import NJConsolidationAnalyzer\n",
        "from visualizations import NJVisualizationCreator\n",
        "\n",
        "# Set up plotting style\n",
        "plt.style.use('seaborn-v0_8')\n",
        "sns.set_palette(\"husl\")\n",
        "\n",
        "print(\"Libraries imported successfully!\")\n"
      ]
    },
    {
      "cell_type": "markdown",
      "metadata": {},
      "source": [
        "## Data Collection and Setup\n",
        "\n",
        "First, let's collect and prepare our data for analysis.\n"
      ]
    },
    {
      "cell_type": "code",
      "execution_count": null,
      "metadata": {},
      "outputs": [],
      "source": [
        "# Initialize data collector\n",
        "collector = NJDataCollector()\n",
        "\n",
        "# Collect all data\n",
        "data = collector.collect_all_data()\n",
        "\n",
        "print(\"Data collection complete!\")\n",
        "print(f\"Municipalities: {len(data['municipalities'])} rows\")\n",
        "print(f\"Scenarios: {len(data['scenarios'])} rows\")\n",
        "print(f\"Comparisons: {len(data['comparisons'])} rows\")\n",
        "print(f\"Economic: {len(data['economic'])} rows\")\n"
      ]
    }
  ],
  "metadata": {
    "kernelspec": {
      "display_name": "Python 3",
      "language": "python",
      "name": "python3"
    },
    "language_info": {
      "name": "python",
      "version": "3.10.6"
    }
  },
  "nbformat": 4,
  "nbformat_minor": 2
}
